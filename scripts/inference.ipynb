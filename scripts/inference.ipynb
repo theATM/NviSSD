{
 "cells": [
  {
   "cell_type": "markdown",
   "metadata": {},
   "source": [
    "# Inference on pretrained SSD model using Tensor Cores"
   ]
  },
  {
   "cell_type": "code",
   "execution_count": null,
   "outputs": [],
   "source": [
    "## Lets import libraries we will use to prepare an input image.\n",
    "import numpy as np\n",
    "from matplotlib import pyplot as plt\n",
    "import torch\n",
    "%matplotlib inline\n",
    "## From our examples we can import utility functions for inference:\n",
    "from dle.inference import load_image, rescale, crop_center, normalize\n",
    "from examples.SSD300_inference import load_checkpoint, build_predictor\n",
    "from apex.fp16_utils import network_to_half\n",
    "from ssd.utils import dboxes300_coco, Encoder\n",
    "import matplotlib.patches as patches\n",
    "import json"
   ],
   "metadata": {
    "collapsed": false,
    "pycharm": {
     "is_executing": true
    }
   }
  },
  {
   "cell_type": "markdown",
   "source": [
    "## Set Parameters"
   ],
   "metadata": {
    "collapsed": false
   }
  },
  {
   "cell_type": "code",
   "execution_count": null,
   "outputs": [],
   "source": [
    "# Parameters\n",
    "#model_path = '../checkpoints/rsd_first_448/epoch_100.pt'\n",
    "model_path = '../checkpoints/rsd_200_555/epoch_175.pt'\n",
    "# model_path = '../checkpoints/coco/epoch_19.pt'\n",
    "# model_path = '../checkpoints/oneimgtest/epoch_250.pt'\n",
    "classes_num = 6\n",
    "# classes_num = 81\n",
    "dataset_path = '../data/rsdcoco/images/test'\n",
    "# dataset_path = '../data/coco/images/test2014'\n",
    "#image_path = '../data/rsdcoco/images/val/airbase_13_jpg.rf.b2af10b9377d6e4cd7fbfc152da86906.jpg'\n",
    "image_path = ['../data/rsdcoco/images/val/airbase_13_jpg.rf.b2af10b9377d6e4cd7fbfc152da86906.jpg',\n",
    "              '../data/rsdcoco/images/val/helicopter_1871_jpg.rf.efd4a65a6451d252a742ab9051e4c703.jpg',\n",
    "              '../data/rsdcoco/images/val/oiltank_4672_jpg.rf.381ba7343ef8dadf5b39d74feb3e6875.jpg',\n",
    "              '../data/rsdcoco/images/val/plane_5788_jpg.rf.a3df09e17b2575a54e7fd318fe18d2e6.jpg',\n",
    "              '../data/rsdcoco/images/val/warship_8631_jpg.rf.bebc82bf7e535f855d26fb0167bf2820.jpg']\n",
    "# image_path = '../data/coco/images/val2014/COCO_val2014_000000001369.jpg'\n",
    "json_file = '../data/rsdcoco/annotations/instances_val.json'\n",
    "# json_file = '../data/coco/annotations/instances_val2014.json'\n",
    "save_path = '../interference/rsd'\n",
    "# save_path = '../interference/coco'"
   ],
   "metadata": {
    "collapsed": false
   }
  },
  {
   "cell_type": "markdown",
   "source": [
    "## Building an predictor"
   ],
   "metadata": {
    "collapsed": false
   }
  },
  {
   "cell_type": "code",
   "execution_count": null,
   "outputs": [],
   "source": [
    "## We have prepared our imput. Next thing is to load a SSD model. In our examples you can find some framework specific functions. Some of them will be explained here in detail.\n",
    "## Now we can import the model. We need to set it in the evaluation mode also:\n",
    "ssd300 = build_predictor(model_path, classes_num)\n",
    "ssd300 = ssd300.cuda()\n",
    "ssd300 = network_to_half(ssd300.cuda())\n",
    "ssd300 = ssd300.eval()"
   ],
   "metadata": {
    "collapsed": false
   }
  },
  {
   "cell_type": "markdown",
   "source": [
    "## Loading an image"
   ],
   "metadata": {
    "collapsed": false
   }
  },
  {
   "cell_type": "code",
   "execution_count": null,
   "outputs": [],
   "source": [
    "image_path = [image_path] if type(image_path) is str else image_path\n",
    "for img_pth in image_path:\n",
    "    # Loading an image\n",
    "    img = load_image(img_pth)\n",
    "    #plt.imshow(img)\n",
    "    #plt.figure()\n",
    "    ## Next we will rescale it, crop it and normalize it, so the model will get the expected input:\n",
    "    img = rescale(img, 300, 300)\n",
    "    img = crop_center(img, 300, 300)\n",
    "    img = normalize(img)\n",
    "    #plt.imshow(img)\n",
    "    plt.figure()\n",
    "    ## I looks weird, because after normalization, data values are in range [-1..1]. Plotting lib expects values from [0..1] range. We can fix it for visualization purpose:\n",
    "    out = img/2+0.5\n",
    "    #plt.imshow(out)\n",
    "    #img.shape\n",
    "    # change the shape\n",
    "    HWC = img\n",
    "    CHW = np.swapaxes(np.swapaxes(HWC, 0, 2), 1, 2)\n",
    "    # make a batch of 1 image\n",
    "    batch = np.expand_dims(CHW, axis=0)\n",
    "    # turn input into tensor\n",
    "    tensor = torch.from_numpy(batch)\n",
    "    tensor = tensor.cuda()\n",
    "    tensor = tensor.half()\n",
    "    tensor.shape\n",
    "    prediction = ssd300(tensor)\n",
    "    dboxes = dboxes300_coco()\n",
    "    encoder = Encoder(dboxes)\n",
    "    ploc, plabel = [val.float() for val in prediction]\n",
    "    encoded = encoder.decode_batch(ploc, plabel, criteria=0.5, max_output=5)\n",
    "    bboxes, classes, confidences = [x.detach().cpu().numpy() for x in encoded[0]]\n",
    "    best = np.argwhere(confidences > 0.3).squeeze(axis=1)\n",
    "    with open(json_file,'r') as COCO:\n",
    "        js = json.loads(COCO.read())\n",
    "    class_names = [ category['name'] for category in js['categories'] ]\n",
    "    fig,ax = plt.subplots(1)\n",
    "    ax.imshow(out)\n",
    "    for idx in best:\n",
    "        left, top, right, bottom = bboxes[idx]\n",
    "        x, y, w, h = [val*300 for val in [left, top, right-left, bottom-top]]\n",
    "        rect = patches.Rectangle((x, y),w,h,linewidth=1,edgecolor='r',facecolor='none')\n",
    "        ax.add_patch(rect)\n",
    "        ax.text(x, y, class_names[classes[idx]-1], bbox=dict(facecolor='white', alpha=0.5))\n",
    "    plt.show()"
   ],
   "metadata": {
    "collapsed": false
   }
  },
  {
   "cell_type": "markdown",
   "source": [],
   "metadata": {
    "collapsed": false
   }
  },
  {
   "cell_type": "markdown",
   "source": [
    "## Interference on dataset"
   ],
   "metadata": {
    "collapsed": false
   }
  },
  {
   "cell_type": "code",
   "execution_count": null,
   "outputs": [],
   "source": [
    "import os\n",
    "files = os.listdir(dataset_path)\n",
    "for img_path in files:\n",
    "    img = load_image(dataset_path+'/'+img_path)\n",
    "    img = rescale(img, 300, 300)\n",
    "    img = crop_center(img, 300, 300)\n",
    "    img = normalize(img)\n",
    "    out = img/2+0.5\n",
    "    # change the shape\n",
    "    HWC = img\n",
    "    CHW = np.swapaxes(np.swapaxes(HWC, 0, 2), 1, 2)\n",
    "    # make a batch of 1 image\n",
    "    batch = np.expand_dims(CHW, axis=0)\n",
    "    # turn input into tensor\n",
    "    tensor = torch.from_numpy(batch)\n",
    "    tensor = tensor.cuda()\n",
    "    tensor = tensor.half()\n",
    "    tensor.shape\n",
    "    prediction = ssd300(tensor)\n",
    "    dboxes = dboxes300_coco()\n",
    "    encoder = Encoder(dboxes)\n",
    "    ploc, plabel = [val.float() for val in prediction]\n",
    "    encoded = encoder.decode_batch(ploc, plabel, criteria=0.5, max_output=5)\n",
    "    bboxes, classes, confidences = [x.detach().cpu().numpy() for x in encoded[0]]\n",
    "    best = np.argwhere(confidences > 0.3).squeeze(axis=1)\n",
    "    with open(json_file,'r') as COCO:\n",
    "        js = json.loads(COCO.read())\n",
    "    class_names = [ category['name'] for category in js['categories'] ]\n",
    "    plt.close()\n",
    "    fig,ax = plt.subplots(1)\n",
    "    ax.imshow(out)\n",
    "    plt.axis('off')\n",
    "    for idx in best:\n",
    "        left, top, right, bottom = bboxes[idx]\n",
    "        x, y, w, h = [val*300 for val in [left, top, right-left, bottom-top]]\n",
    "        rect = patches.Rectangle((x, y),w,h,linewidth=1,edgecolor='r',facecolor='none')\n",
    "        ax.add_patch(rect)\n",
    "        ax.text(x, y, class_names[classes[idx]-1], bbox=dict(facecolor='white', alpha=0.5))\n",
    "        image_name = image_path\n",
    "    plt.savefig(save_path + '/'+ img_path)\n",
    "    #plt.show()\n",
    "    plt.close()\n",
    "    #break\n"
   ],
   "metadata": {
    "collapsed": false
   }
  },
  {
   "cell_type": "code",
   "execution_count": null,
   "outputs": [],
   "source": [],
   "metadata": {
    "collapsed": false
   }
  },
  {
   "cell_type": "code",
   "execution_count": null,
   "outputs": [],
   "source": [],
   "metadata": {
    "collapsed": false
   }
  }
 ],
 "metadata": {
  "kernelspec": {
   "display_name": "Python 3",
   "language": "python",
   "name": "python3"
  },
  "language_info": {
   "codemirror_mode": {
    "name": "ipython",
    "version": 3
   },
   "file_extension": ".py",
   "mimetype": "text/x-python",
   "name": "python",
   "nbconvert_exporter": "python",
   "pygments_lexer": "ipython3",
   "version": "3.6.8"
  }
 },
 "nbformat": 4,
 "nbformat_minor": 2
}
